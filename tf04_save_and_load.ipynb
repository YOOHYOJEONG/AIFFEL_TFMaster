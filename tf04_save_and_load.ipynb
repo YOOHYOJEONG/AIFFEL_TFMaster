{
 "cells": [
  {
   "cell_type": "markdown",
   "id": "baking-wichita",
   "metadata": {},
   "source": [
    "# Save and load models\n",
    "- 모델은 훈련하는 중이나 훈련이 끝난 후에 모델을 저장할 수 있다.\n",
    "- 모델을 중지된 지점부터 다시 훈련할 수 있기 때문에 한 번에 오랫동안 훈련하지 않아도 된다.\n",
    "- 또 모델을 저장하면 다른 사람과 공유를 할 수 있고 같은 작업을 할 수 있다.\n",
    "- 기술자들은 모델을 만드는 코드, 모델의 훈련된 가중치 또는 파라미터를 제공하며 연구한 모델과 기법을 공개한다.\n",
    "- 이런 데이터를 공유하면 다른 사람이 모델의 작동 방식만 이해하고 있다면 새로운 데이터로 모델을 실험할 수 있다.\n"
   ]
  },
  {
   "cell_type": "markdown",
   "id": "careful-harvey",
   "metadata": {},
   "source": [
    "## 설정\n",
    "- 필요한 라이브러리를 설치하고 텐서플로우를 import 한다."
   ]
  },
  {
   "cell_type": "code",
   "execution_count": 1,
   "id": "refined-houston",
   "metadata": {},
   "outputs": [
    {
     "name": "stdout",
     "output_type": "stream",
     "text": [
      "\u001b[33mWARNING: You are using pip version 20.3.3; however, version 21.2.3 is available.\n",
      "You should consider upgrading via the '/opt/conda/bin/python -m pip install --upgrade pip' command.\u001b[0m\n",
      "Note: you may need to restart the kernel to use updated packages.\n"
     ]
    }
   ],
   "source": [
    "pip install -q pyyaml h5py  # HDF5 포맷으로 모델을 저장하기 위해서 필요합니다"
   ]
  },
  {
   "cell_type": "code",
   "execution_count": 2,
   "id": "intimate-encyclopedia",
   "metadata": {},
   "outputs": [
    {
     "name": "stdout",
     "output_type": "stream",
     "text": [
      "2.4.1\n"
     ]
    }
   ],
   "source": [
    "import os\n",
    "\n",
    "import tensorflow as tf\n",
    "from tensorflow import keras\n",
    "\n",
    "print(tf.version.VERSION)"
   ]
  },
  {
   "cell_type": "markdown",
   "id": "organizational-twelve",
   "metadata": {},
   "source": [
    "### 예저 데이터셋 받기\n",
    "- MNIST 데이터셋으로 모델을 훈련하여 가중치를 저장하는 예제를 만들 것.\n",
    "- 모델 실행 속도를 빠르게 하기 위해 샘플에서 처음 천 개만 사용함."
   ]
  },
  {
   "cell_type": "code",
   "execution_count": 3,
   "id": "global-delhi",
   "metadata": {},
   "outputs": [],
   "source": [
    "(train_images, train_labels), (test_images, test_labels) = tf.keras.datasets.mnist.load_data()\n",
    "\n",
    "train_labels = train_labels[:1000]\n",
    "test_labels = test_labels[:1000]\n",
    "\n",
    "train_images = train_images[:1000].reshape(-1, 28 * 28) / 255.0\n",
    "test_images = test_images[:1000].reshape(-1, 28 * 28) / 255.0"
   ]
  },
  {
   "cell_type": "markdown",
   "id": "developmental-iraqi",
   "metadata": {},
   "source": [
    "### 모델 정의"
   ]
  },
  {
   "cell_type": "code",
   "execution_count": 4,
   "id": "guilty-woman",
   "metadata": {},
   "outputs": [
    {
     "name": "stdout",
     "output_type": "stream",
     "text": [
      "Model: \"sequential\"\n",
      "_________________________________________________________________\n",
      "Layer (type)                 Output Shape              Param #   \n",
      "=================================================================\n",
      "dense (Dense)                (None, 512)               401920    \n",
      "_________________________________________________________________\n",
      "dropout (Dropout)            (None, 512)               0         \n",
      "_________________________________________________________________\n",
      "dense_1 (Dense)              (None, 10)                5130      \n",
      "=================================================================\n",
      "Total params: 407,050\n",
      "Trainable params: 407,050\n",
      "Non-trainable params: 0\n",
      "_________________________________________________________________\n"
     ]
    }
   ],
   "source": [
    "# 간단한 Sequential 모델을 정의합니다\n",
    "def create_model():\n",
    "  model = tf.keras.models.Sequential([\n",
    "    keras.layers.Dense(512, activation='relu', input_shape=(784,)),\n",
    "    keras.layers.Dropout(0.2),\n",
    "    keras.layers.Dense(10)\n",
    "  ])\n",
    "\n",
    "  model.compile(optimizer='adam',\n",
    "                loss=tf.losses.SparseCategoricalCrossentropy(from_logits=True),\n",
    "                metrics=[tf.metrics.SparseCategoricalAccuracy()])\n",
    "\n",
    "  return model\n",
    "\n",
    "# 모델 객체를 만듭니다\n",
    "model = create_model()\n",
    "\n",
    "# 모델 구조를 출력합니다\n",
    "model.summary()"
   ]
  },
  {
   "cell_type": "markdown",
   "id": "bearing-jonathan",
   "metadata": {},
   "source": [
    "### 훈련하는 동안 체크 포인트 저장하기\n",
    "- 훈련 중간과 훈련 마지막에 체크포인트를 자동으로 저장하도록 하는 방법을 많이 사용한다. \n",
    "- 다시 훈련하지 않고 모델을 재 사용하거나 훈련 과정이 중지된 경우 이어서 훈련을 진행할 수 있다.\n",
    "- tf.keras.callbacks.ModelCheckpoint은 이런 작업을 수행하는 콜백(callback)이다.\n",
    "- 이 콜백은 체크포인트 작업을 조정할 수 있도록 여러가지 매개 변수를 제공한다."
   ]
  },
  {
   "cell_type": "markdown",
   "id": "emotional-letters",
   "metadata": {},
   "source": [
    "### 체크포인트 콜백 만들고 사용하기"
   ]
  },
  {
   "cell_type": "code",
   "execution_count": 5,
   "id": "christian-boundary",
   "metadata": {},
   "outputs": [
    {
     "name": "stdout",
     "output_type": "stream",
     "text": [
      "Epoch 1/10\n",
      "32/32 [==============================] - 1s 17ms/step - loss: 1.6511 - sparse_categorical_accuracy: 0.4718 - val_loss: 0.7083 - val_sparse_categorical_accuracy: 0.7770\n",
      "\n",
      "Epoch 00001: saving model to training_1/cp.ckpt\n",
      "Epoch 2/10\n",
      "32/32 [==============================] - 0s 4ms/step - loss: 0.4837 - sparse_categorical_accuracy: 0.8708 - val_loss: 0.5304 - val_sparse_categorical_accuracy: 0.8330\n",
      "\n",
      "Epoch 00002: saving model to training_1/cp.ckpt\n",
      "Epoch 3/10\n",
      "32/32 [==============================] - 0s 4ms/step - loss: 0.2883 - sparse_categorical_accuracy: 0.9229 - val_loss: 0.4843 - val_sparse_categorical_accuracy: 0.8450\n",
      "\n",
      "Epoch 00003: saving model to training_1/cp.ckpt\n",
      "Epoch 4/10\n",
      "32/32 [==============================] - 0s 4ms/step - loss: 0.2110 - sparse_categorical_accuracy: 0.9537 - val_loss: 0.4669 - val_sparse_categorical_accuracy: 0.8600\n",
      "\n",
      "Epoch 00004: saving model to training_1/cp.ckpt\n",
      "Epoch 5/10\n",
      "32/32 [==============================] - 0s 4ms/step - loss: 0.1598 - sparse_categorical_accuracy: 0.9597 - val_loss: 0.4218 - val_sparse_categorical_accuracy: 0.8680\n",
      "\n",
      "Epoch 00005: saving model to training_1/cp.ckpt\n",
      "Epoch 6/10\n",
      "32/32 [==============================] - 0s 4ms/step - loss: 0.1277 - sparse_categorical_accuracy: 0.9792 - val_loss: 0.4131 - val_sparse_categorical_accuracy: 0.8680\n",
      "\n",
      "Epoch 00006: saving model to training_1/cp.ckpt\n",
      "Epoch 7/10\n",
      "32/32 [==============================] - 0s 5ms/step - loss: 0.0908 - sparse_categorical_accuracy: 0.9905 - val_loss: 0.4094 - val_sparse_categorical_accuracy: 0.8630\n",
      "\n",
      "Epoch 00007: saving model to training_1/cp.ckpt\n",
      "Epoch 8/10\n",
      "32/32 [==============================] - 0s 4ms/step - loss: 0.0572 - sparse_categorical_accuracy: 0.9944 - val_loss: 0.4098 - val_sparse_categorical_accuracy: 0.8640\n",
      "\n",
      "Epoch 00008: saving model to training_1/cp.ckpt\n",
      "Epoch 9/10\n",
      "32/32 [==============================] - 0s 5ms/step - loss: 0.0486 - sparse_categorical_accuracy: 0.9923 - val_loss: 0.4010 - val_sparse_categorical_accuracy: 0.8710\n",
      "\n",
      "Epoch 00009: saving model to training_1/cp.ckpt\n",
      "Epoch 10/10\n",
      "32/32 [==============================] - 0s 4ms/step - loss: 0.0424 - sparse_categorical_accuracy: 0.9988 - val_loss: 0.4211 - val_sparse_categorical_accuracy: 0.8630\n",
      "\n",
      "Epoch 00010: saving model to training_1/cp.ckpt\n"
     ]
    },
    {
     "data": {
      "text/plain": [
       "<tensorflow.python.keras.callbacks.History at 0x7f29683059d0>"
      ]
     },
     "execution_count": 5,
     "metadata": {},
     "output_type": "execute_result"
    }
   ],
   "source": [
    "checkpoint_path = \"training_1/cp.ckpt\"\n",
    "checkpoint_dir = os.path.dirname(checkpoint_path)\n",
    "\n",
    "# 모델의 가중치를 저장하는 콜백 만들기\n",
    "cp_callback = tf.keras.callbacks.ModelCheckpoint(filepath=checkpoint_path,\n",
    "                                                 save_weights_only=True,\n",
    "                                                 verbose=1)\n",
    "\n",
    "# 새로운 콜백으로 모델 훈련하기\n",
    "model.fit(train_images, \n",
    "          train_labels,  \n",
    "          epochs=10,\n",
    "          validation_data=(test_images, test_labels),\n",
    "          callbacks=[cp_callback])  # 콜백을 훈련에 전달합니다\n",
    "\n",
    "# 옵티마이저의 상태를 저장하는 것과 관련되어 경고가 발생할 수 있습니다.\n",
    "# 이 경고는 이전 사용 방식을 권장하지 않기 위함이며 무시해도 좋습니다."
   ]
  },
  {
   "cell_type": "code",
   "execution_count": 6,
   "id": "wired-radius",
   "metadata": {},
   "outputs": [
    {
     "data": {
      "text/plain": [
       "['checkpoint', 'cp.ckpt.data-00000-of-00001', 'cp.ckpt.index']"
      ]
     },
     "execution_count": 6,
     "metadata": {},
     "output_type": "execute_result"
    }
   ],
   "source": [
    "# 에포크가 종료될 때 마다 업데이트 되는 텐서플로우의 체크포인트 파일의 단일 집합이 생성된다.\n",
    "os.listdir(checkpoint_dir)"
   ]
  },
  {
   "cell_type": "markdown",
   "id": "accomplished-license",
   "metadata": {},
   "source": [
    "### 훈련하지 않은 새 모델을 만들고 테스트 세트에서 평가하기\n",
    "- 가중치만 복원할 땐 원본 모델과 동일한 구조로 모델을 만들어야 함.\n",
    "- 동일한 구조로 모델을 만들었으므로 다른 객체이지만 가중치를 공유할 수 있음."
   ]
  },
  {
   "cell_type": "code",
   "execution_count": 8,
   "id": "legitimate-banking",
   "metadata": {},
   "outputs": [
    {
     "name": "stdout",
     "output_type": "stream",
     "text": [
      "32/32 - 0s - loss: 2.3247 - sparse_categorical_accuracy: 0.1270\n",
      "Untrained model, accuracy: 12.70%\n"
     ]
    }
   ],
   "source": [
    "# 기본 모델 객체를 만듭니다\n",
    "model = create_model()\n",
    "\n",
    "# 모델을 평가합니다\n",
    "loss, acc = model.evaluate(test_images, test_labels, verbose=2)\n",
    "print(\"Untrained model, accuracy: {:5.2f}%\".format(100 * acc))\n",
    "\n",
    "# 훈련되지 않은 모델의 성능은 무작위로 선택하는 정도의 수준"
   ]
  },
  {
   "cell_type": "code",
   "execution_count": 9,
   "id": "precious-integrity",
   "metadata": {},
   "outputs": [
    {
     "name": "stdout",
     "output_type": "stream",
     "text": [
      "32/32 - 0s - loss: 0.4211 - sparse_categorical_accuracy: 0.8630\n",
      "Restored model, accuracy: 86.30%\n"
     ]
    }
   ],
   "source": [
    "# 체크포인트에서 가중치를 로드하고 다시 평가\n",
    "\n",
    "# 가중치 로드\n",
    "model.load_weights(checkpoint_path)\n",
    "\n",
    "# 모델 재평가\n",
    "loss, acc = model.evaluate(test_images, test_labels, verbose=2)\n",
    "print(\"Restored model, accuracy: {:5.2f}%\".format(100 * acc))"
   ]
  },
  {
   "cell_type": "markdown",
   "id": "israeli-advice",
   "metadata": {},
   "source": [
    "### 체크포인트 콜백 매개변수\n",
    "- 콜백 함수는 몇가지 매개변수를 제공한다.\n",
    "- 체크포인트 이름을 고유하게 만들거나 체크포인트 주기를 조정할 수 있다.\n",
    "- 새로운 모델을 훈련하고 다섯 번의 에포크마다 고유한 이름으로 체크포인트를 저장하는 코드를 짜 볼 것"
   ]
  },
  {
   "cell_type": "code",
   "execution_count": 10,
   "id": "ruled-suspension",
   "metadata": {},
   "outputs": [
    {
     "name": "stdout",
     "output_type": "stream",
     "text": [
      "\n",
      "Epoch 00005: saving model to training_2/cp-0005.ckpt\n",
      "\n",
      "Epoch 00010: saving model to training_2/cp-0010.ckpt\n",
      "\n",
      "Epoch 00015: saving model to training_2/cp-0015.ckpt\n",
      "\n",
      "Epoch 00020: saving model to training_2/cp-0020.ckpt\n",
      "\n",
      "Epoch 00025: saving model to training_2/cp-0025.ckpt\n",
      "\n",
      "Epoch 00030: saving model to training_2/cp-0030.ckpt\n",
      "\n",
      "Epoch 00035: saving model to training_2/cp-0035.ckpt\n",
      "\n",
      "Epoch 00040: saving model to training_2/cp-0040.ckpt\n",
      "\n",
      "Epoch 00045: saving model to training_2/cp-0045.ckpt\n",
      "\n",
      "Epoch 00050: saving model to training_2/cp-0050.ckpt\n"
     ]
    },
    {
     "data": {
      "text/plain": [
       "<tensorflow.python.keras.callbacks.History at 0x7f2967e37190>"
      ]
     },
     "execution_count": 10,
     "metadata": {},
     "output_type": "execute_result"
    }
   ],
   "source": [
    "# 파일 이름에 에포크 번호를 포함시킵니다(`str.format` 포맷)\n",
    "checkpoint_path = \"training_2/cp-{epoch:04d}.ckpt\"\n",
    "checkpoint_dir = os.path.dirname(checkpoint_path)\n",
    "\n",
    "batch_size = 32\n",
    "\n",
    "# 다섯 번째 에포크마다 가중치를 저장하기 위한 콜백을 만듭니다.\n",
    "cp_callback = tf.keras.callbacks.ModelCheckpoint(\n",
    "    filepath=checkpoint_path, \n",
    "    verbose=1, \n",
    "    save_weights_only=True,\n",
    "    save_freq=5*batch_size)\n",
    "\n",
    "# 새로운 모델 객체를 만듭니다\n",
    "model = create_model()\n",
    "\n",
    "# `checkpoint_path` 포맷을 사용하는 가중치를 저장합니다.\n",
    "model.save_weights(checkpoint_path.format(epoch=0))\n",
    "\n",
    "# 새로운 콜백을 사용하여 모델을 훈련합니다.\n",
    "model.fit(train_images, \n",
    "          train_labels,\n",
    "          epochs=50, \n",
    "          batch_size=batch_size, \n",
    "          callbacks=[cp_callback],\n",
    "          validation_data=(test_images, test_labels),\n",
    "          verbose=0)"
   ]
  },
  {
   "cell_type": "code",
   "execution_count": 11,
   "id": "recovered-detector",
   "metadata": {},
   "outputs": [
    {
     "data": {
      "text/plain": [
       "['checkpoint',\n",
       " 'cp-0005.ckpt.index',\n",
       " 'cp-0020.ckpt.index',\n",
       " 'cp-0040.ckpt.index',\n",
       " 'cp-0035.ckpt.data-00000-of-00001',\n",
       " 'cp-0015.ckpt.index',\n",
       " 'cp-0000.ckpt.data-00000-of-00001',\n",
       " 'cp-0050.ckpt.data-00000-of-00001',\n",
       " 'cp-0045.ckpt.index',\n",
       " 'cp-0050.ckpt.index',\n",
       " 'cp-0010.ckpt.index',\n",
       " 'cp-0030.ckpt.index',\n",
       " 'cp-0035.ckpt.index',\n",
       " 'cp-0030.ckpt.data-00000-of-00001',\n",
       " 'cp-0005.ckpt.data-00000-of-00001',\n",
       " 'cp-0010.ckpt.data-00000-of-00001',\n",
       " 'cp-0000.ckpt.index',\n",
       " 'cp-0015.ckpt.data-00000-of-00001',\n",
       " 'cp-0025.ckpt.data-00000-of-00001',\n",
       " 'cp-0045.ckpt.data-00000-of-00001',\n",
       " 'cp-0025.ckpt.index',\n",
       " 'cp-0040.ckpt.data-00000-of-00001',\n",
       " 'cp-0020.ckpt.data-00000-of-00001']"
      ]
     },
     "execution_count": 11,
     "metadata": {},
     "output_type": "execute_result"
    }
   ],
   "source": [
    "os.listdir(checkpoint_dir)\n",
    "# 만들어진 체크포인트를 확인해 보고 마지막 체크포인트를 선택해 봄."
   ]
  },
  {
   "cell_type": "code",
   "execution_count": 12,
   "id": "casual-camping",
   "metadata": {},
   "outputs": [
    {
     "data": {
      "text/plain": [
       "'training_2/cp-0050.ckpt'"
      ]
     },
     "execution_count": 12,
     "metadata": {},
     "output_type": "execute_result"
    }
   ],
   "source": [
    "latest = tf.train.latest_checkpoint(checkpoint_dir)\n",
    "latest"
   ]
  },
  {
   "cell_type": "markdown",
   "id": "split-single",
   "metadata": {},
   "source": [
    "- 텐서플로우는 기본적으로 최근 5개의 체크포인트만 저장한다."
   ]
  },
  {
   "cell_type": "markdown",
   "id": "beautiful-noise",
   "metadata": {},
   "source": [
    "### - 모델을 초기화하고 최근 체크포인트를 로드하여 테스트"
   ]
  },
  {
   "cell_type": "code",
   "execution_count": 13,
   "id": "mobile-investor",
   "metadata": {},
   "outputs": [
    {
     "name": "stdout",
     "output_type": "stream",
     "text": [
      "32/32 - 0s - loss: 0.5028 - sparse_categorical_accuracy: 0.8740\n",
      "Restored model, accuracy: 87.40%\n"
     ]
    }
   ],
   "source": [
    "# 새로운 모델 객체를 만듭니다.\n",
    "model = create_model()\n",
    "\n",
    "# 이전에 저장한 가중치를 로드합니다.\n",
    "model.load_weights(latest)\n",
    "\n",
    "# 모델을 재평가합니다.\n",
    "loss, acc = model.evaluate(test_images, test_labels, verbose=2)\n",
    "print(\"Restored model, accuracy: {:5.2f}%\".format(100 * acc))"
   ]
  },
  {
   "cell_type": "markdown",
   "id": "under-neutral",
   "metadata": {},
   "source": [
    "---"
   ]
  },
  {
   "cell_type": "markdown",
   "id": "chicken-weapon",
   "metadata": {},
   "source": [
    "# < 여기까지 내 발표 내용\n",
    "## - 이후부터는 민지님 발표 내용"
   ]
  },
  {
   "cell_type": "markdown",
   "id": "infectious-savannah",
   "metadata": {},
   "source": [
    "---"
   ]
  },
  {
   "cell_type": "markdown",
   "id": "surrounded-easter",
   "metadata": {},
   "source": [
    "### 수동으로 가중치 저장하기"
   ]
  },
  {
   "cell_type": "code",
   "execution_count": 14,
   "id": "lightweight-newman",
   "metadata": {},
   "outputs": [
    {
     "name": "stdout",
     "output_type": "stream",
     "text": [
      "32/32 - 0s - loss: 0.5028 - sparse_categorical_accuracy: 0.8740\n",
      "복원된 모델의 정확도: 87.40%\n"
     ]
    }
   ],
   "source": [
    "# 가중치를 저장합니다\n",
    "model.save_weights('./checkpoints/my_checkpoint')\n",
    "\n",
    "# 새로운 모델 객체를 만듭니다\n",
    "model = create_model()\n",
    "\n",
    "# 가중치를 복원합니다\n",
    "model.load_weights('./checkpoints/my_checkpoint')\n",
    "\n",
    "# 모델을 평가합니다\n",
    "loss,acc = model.evaluate(test_images,  test_labels, verbose=2)\n",
    "print(\"복원된 모델의 정확도: {:5.2f}%\".format(100*acc))"
   ]
  },
  {
   "cell_type": "markdown",
   "id": "after-equilibrium",
   "metadata": {},
   "source": [
    "### 전체 모델 저장하기"
   ]
  },
  {
   "cell_type": "markdown",
   "id": "unknown-robertson",
   "metadata": {},
   "source": [
    "### - SaveModel 포맷"
   ]
  },
  {
   "cell_type": "code",
   "execution_count": 15,
   "id": "handed-philadelphia",
   "metadata": {},
   "outputs": [
    {
     "name": "stdout",
     "output_type": "stream",
     "text": [
      "Epoch 1/5\n",
      "32/32 [==============================] - 0s 2ms/step - loss: 1.6145 - sparse_categorical_accuracy: 0.5084\n",
      "Epoch 2/5\n",
      "32/32 [==============================] - 0s 2ms/step - loss: 0.4529 - sparse_categorical_accuracy: 0.8746\n",
      "Epoch 3/5\n",
      "32/32 [==============================] - 0s 2ms/step - loss: 0.3382 - sparse_categorical_accuracy: 0.9116\n",
      "Epoch 4/5\n",
      "32/32 [==============================] - 0s 2ms/step - loss: 0.2044 - sparse_categorical_accuracy: 0.9533\n",
      "Epoch 5/5\n",
      "32/32 [==============================] - 0s 2ms/step - loss: 0.1791 - sparse_categorical_accuracy: 0.9698\n",
      "WARNING:tensorflow:Unresolved object in checkpoint: (root).optimizer.iter\n",
      "WARNING:tensorflow:Unresolved object in checkpoint: (root).optimizer.beta_1\n",
      "WARNING:tensorflow:Unresolved object in checkpoint: (root).optimizer.beta_2\n",
      "WARNING:tensorflow:Unresolved object in checkpoint: (root).optimizer.decay\n",
      "WARNING:tensorflow:Unresolved object in checkpoint: (root).optimizer.learning_rate\n",
      "WARNING:tensorflow:A checkpoint was restored (e.g. tf.train.Checkpoint.restore or tf.keras.Model.load_weights) but not all checkpointed values were used. See above for specific issues. Use expect_partial() on the load status object, e.g. tf.train.Checkpoint.restore(...).expect_partial(), to silence these warnings, or use assert_consumed() to make the check explicit. See https://www.tensorflow.org/guide/checkpoint#loading_mechanics for details.\n",
      "WARNING:tensorflow:Unresolved object in checkpoint: (root).optimizer.iter\n",
      "WARNING:tensorflow:Unresolved object in checkpoint: (root).optimizer.beta_1\n",
      "WARNING:tensorflow:Unresolved object in checkpoint: (root).optimizer.beta_2\n",
      "WARNING:tensorflow:Unresolved object in checkpoint: (root).optimizer.decay\n",
      "WARNING:tensorflow:Unresolved object in checkpoint: (root).optimizer.learning_rate\n",
      "WARNING:tensorflow:A checkpoint was restored (e.g. tf.train.Checkpoint.restore or tf.keras.Model.load_weights) but not all checkpointed values were used. See above for specific issues. Use expect_partial() on the load status object, e.g. tf.train.Checkpoint.restore(...).expect_partial(), to silence these warnings, or use assert_consumed() to make the check explicit. See https://www.tensorflow.org/guide/checkpoint#loading_mechanics for details.\n",
      "INFO:tensorflow:Assets written to: saved_model/my_model/assets\n"
     ]
    }
   ],
   "source": [
    "# 새로운 모델 객체를 만들고 훈련합니다\n",
    "model = create_model()\n",
    "model.fit(train_images, train_labels, epochs=5)\n",
    "\n",
    "# SavedModel로 전체 모델을 저장합니다\n",
    "!mkdir -p saved_model\n",
    "model.save('saved_model/my_model')"
   ]
  },
  {
   "cell_type": "markdown",
   "id": "million-subscription",
   "metadata": {},
   "source": [
    "- SavedModel 포맷은 프로토콜 버퍼 이진 파일과 텐서플로 체크포인트를 담고 있는 디렉토리임.\n",
    "- 저장된 모델의 디렉토리를 확인 해 봐야 함."
   ]
  },
  {
   "cell_type": "code",
   "execution_count": 16,
   "id": "prerequisite-sapphire",
   "metadata": {},
   "outputs": [
    {
     "name": "stdout",
     "output_type": "stream",
     "text": [
      "\u001b[0m\u001b[01;34mmy_model\u001b[0m/\r\n"
     ]
    }
   ],
   "source": [
    "ls saved_model\n",
    "# my_model 디렉토리 확인"
   ]
  },
  {
   "cell_type": "code",
   "execution_count": 17,
   "id": "secondary-volleyball",
   "metadata": {},
   "outputs": [
    {
     "name": "stdout",
     "output_type": "stream",
     "text": [
      "\u001b[0m\u001b[01;34massets\u001b[0m/  saved_model.pb  \u001b[01;34mvariables\u001b[0m/\r\n"
     ]
    }
   ],
   "source": [
    "ls saved_model/my_model\n",
    "# assests 폴더, saved_model.pb, variables 폴더"
   ]
  },
  {
   "cell_type": "markdown",
   "id": "female-latex",
   "metadata": {},
   "source": [
    "### 저장된 모델로부터 새로운 케라스 모델을 로드"
   ]
  },
  {
   "cell_type": "code",
   "execution_count": 18,
   "id": "former-browse",
   "metadata": {},
   "outputs": [
    {
     "name": "stdout",
     "output_type": "stream",
     "text": [
      "Model: \"sequential_5\"\n",
      "_________________________________________________________________\n",
      "Layer (type)                 Output Shape              Param #   \n",
      "=================================================================\n",
      "dense_10 (Dense)             (None, 512)               401920    \n",
      "_________________________________________________________________\n",
      "dropout_5 (Dropout)          (None, 512)               0         \n",
      "_________________________________________________________________\n",
      "dense_11 (Dense)             (None, 10)                5130      \n",
      "=================================================================\n",
      "Total params: 407,050\n",
      "Trainable params: 407,050\n",
      "Non-trainable params: 0\n",
      "_________________________________________________________________\n"
     ]
    }
   ],
   "source": [
    "new_model = tf.keras.models.load_model('saved_model/my_model')\n",
    "\n",
    "# 모델 구조를 확인합니다\n",
    "new_model.summary()"
   ]
  },
  {
   "cell_type": "markdown",
   "id": "partial-upgrade",
   "metadata": {},
   "source": [
    "- 복원된 모델은 원본 모델과 동일한 매개변수로 컴파일되어 있음.\n",
    "- 이 모델을 평가하고 예측에 사용해 볼 것."
   ]
  },
  {
   "cell_type": "code",
   "execution_count": 19,
   "id": "manufactured-cancer",
   "metadata": {},
   "outputs": [
    {
     "name": "stdout",
     "output_type": "stream",
     "text": [
      "32/32 - 0s - loss: 0.4399 - sparse_categorical_accuracy: 0.8510\n",
      "Restored model, accuracy: 85.10%\n",
      "(1000, 10)\n"
     ]
    }
   ],
   "source": [
    "# 복원된 모델을 평가합니다\n",
    "loss, acc = new_model.evaluate(test_images,  test_labels, verbose=2)\n",
    "print('Restored model, accuracy: {:5.2f}%'.format(100*acc))\n",
    "\n",
    "print(new_model.predict(test_images).shape)"
   ]
  },
  {
   "cell_type": "markdown",
   "id": "acoustic-airfare",
   "metadata": {},
   "source": [
    "### HDF5 파일로 저장하기\n",
    "- 케라스는 HDF5 표준을 따르는 기본 저장 포맷을 제공함."
   ]
  },
  {
   "cell_type": "code",
   "execution_count": 20,
   "id": "caroline-cabin",
   "metadata": {},
   "outputs": [
    {
     "name": "stdout",
     "output_type": "stream",
     "text": [
      "Epoch 1/5\n",
      "32/32 [==============================] - 0s 2ms/step - loss: 1.6306 - sparse_categorical_accuracy: 0.4846\n",
      "Epoch 2/5\n",
      "32/32 [==============================] - 0s 2ms/step - loss: 0.4620 - sparse_categorical_accuracy: 0.8888\n",
      "Epoch 3/5\n",
      "32/32 [==============================] - 0s 2ms/step - loss: 0.3050 - sparse_categorical_accuracy: 0.9061\n",
      "Epoch 4/5\n",
      "32/32 [==============================] - 0s 2ms/step - loss: 0.1967 - sparse_categorical_accuracy: 0.9530\n",
      "Epoch 5/5\n",
      "32/32 [==============================] - 0s 2ms/step - loss: 0.1649 - sparse_categorical_accuracy: 0.9660\n"
     ]
    }
   ],
   "source": [
    "# 새로운 모델 객체를 만들고 훈련합니다\n",
    "model = create_model()\n",
    "model.fit(train_images, train_labels, epochs=5)\n",
    "\n",
    "# 전체 모델을 HDF5 파일로 저장합니다\n",
    "# '.h5' 확장자는 이 모델이 HDF5로 저장되었다는 것을 나타냅니다\n",
    "model.save('my_model.h5')"
   ]
  },
  {
   "cell_type": "code",
   "execution_count": 21,
   "id": "better-variance",
   "metadata": {},
   "outputs": [
    {
     "name": "stdout",
     "output_type": "stream",
     "text": [
      "Model: \"sequential_6\"\n",
      "_________________________________________________________________\n",
      "Layer (type)                 Output Shape              Param #   \n",
      "=================================================================\n",
      "dense_12 (Dense)             (None, 512)               401920    \n",
      "_________________________________________________________________\n",
      "dropout_6 (Dropout)          (None, 512)               0         \n",
      "_________________________________________________________________\n",
      "dense_13 (Dense)             (None, 10)                5130      \n",
      "=================================================================\n",
      "Total params: 407,050\n",
      "Trainable params: 407,050\n",
      "Non-trainable params: 0\n",
      "_________________________________________________________________\n"
     ]
    }
   ],
   "source": [
    "#이제 이 파일로부터 모델을 다시 만들어 봄.\n",
    "\n",
    "# 가중치와 옵티마이저를 포함하여 정확히 동일한 모델을 다시 생성합니다\n",
    "new_model = tf.keras.models.load_model('my_model.h5')\n",
    "\n",
    "# 모델 구조를 출력합니다\n",
    "new_model.summary()"
   ]
  },
  {
   "cell_type": "code",
   "execution_count": 22,
   "id": "naughty-contents",
   "metadata": {},
   "outputs": [
    {
     "name": "stdout",
     "output_type": "stream",
     "text": [
      "32/32 - 0s - loss: 0.4262 - sparse_categorical_accuracy: 0.8670\n",
      "복원된 모델의 정확도: 86.70%\n"
     ]
    }
   ],
   "source": [
    "#정확도 확인\n",
    "\n",
    "loss, acc = new_model.evaluate(test_images,  test_labels, verbose=2)\n",
    "print('복원된 모델의 정확도: {:5.2f}%'.format(100*acc))"
   ]
  },
  {
   "cell_type": "markdown",
   "id": "driven-couple",
   "metadata": {},
   "source": [
    "# 정리\n",
    "- 케라스는 모델 구조를 파악하여 저장합니다. 이 방식은 다음과 같은 모든 것을 저장함.\n",
    "  - 가중치 값\n",
    "  - 모델 구조\n",
    "  - 모델의 훈련 설정(컴파일할 때 전달한 값)\n",
    "  - 옵티마이저와 필요하면 옵티마이저 상태(중지된 지점부터 다시 시작할 수 있음)\n",
    "- 체크포인트가 호환되지 않기 때문에 케라스는 v1.x 옵티마이저(tf.compat.v1.train)를 저장할 수 없음.\n",
    "- v1.x 옵티마이저를 사용하려면 로드한 후에 모델을 다시 컴파일해야 함.\n",
    "- 따라서 옵티마이저의 상태를 잃게 됨."
   ]
  },
  {
   "cell_type": "code",
   "execution_count": null,
   "id": "weekly-ministry",
   "metadata": {},
   "outputs": [],
   "source": []
  }
 ],
 "metadata": {
  "kernelspec": {
   "display_name": "Python 3",
   "language": "python",
   "name": "python3"
  },
  "language_info": {
   "codemirror_mode": {
    "name": "ipython",
    "version": 3
   },
   "file_extension": ".py",
   "mimetype": "text/x-python",
   "name": "python",
   "nbconvert_exporter": "python",
   "pygments_lexer": "ipython3",
   "version": "3.7.9"
  }
 },
 "nbformat": 4,
 "nbformat_minor": 5
}
